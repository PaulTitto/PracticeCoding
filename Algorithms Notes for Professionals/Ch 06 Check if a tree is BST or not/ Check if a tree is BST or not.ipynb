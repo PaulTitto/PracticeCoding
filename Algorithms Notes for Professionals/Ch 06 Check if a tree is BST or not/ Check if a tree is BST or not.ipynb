{
 "cells": [
  {
   "cell_type": "markdown",
   "id": "84acfb70",
   "metadata": {},
   "source": [
    "###  Algorithm to check if a given binary tree is BST\n"
   ]
  },
  {
   "cell_type": "markdown",
   "id": "b9aa0c1a",
   "metadata": {},
   "source": [
    "A binary tree is BST if it satisﬁes any one of the following condition:\n",
    "\n",
    "* 1. It is empty \n",
    "* 2. It has no subtrees. \n",
    "* 3. For every node x in the tree all the keys (if any) in the left sub tree must be less than key(x) and all the keys (if any) in the right sub tree must be greater than key(x).\n"
   ]
  },
  {
   "cell_type": "code",
   "execution_count": 7,
   "id": "abb58892",
   "metadata": {},
   "outputs": [],
   "source": [
    "def is_BST(root):\n",
    "    if root == NULL:\n",
    "        return True\n",
    "    \n",
    "#    Check values in left subtree\n",
    "    if root > left is not NULL:\n",
    "        max_key_in_left = find_max_key(root>left)\n",
    "        if max_key_in_left > root>key:\n",
    "            return False\n",
    "    \n",
    "    if root > right is not NULL:\n",
    "        min_key_in_right = find_min_key(root>right)\n",
    "        if min_key_in_right < root > key:\n",
    "            return False\n",
    "        \n",
    "    return is_BST(root>left) and is_bst(root>right)"
   ]
  },
  {
   "cell_type": "markdown",
   "id": "2983303b",
   "metadata": {},
   "source": [
    " We will use this idea to develop a more eﬃcient algorithm."
   ]
  },
  {
   "cell_type": "code",
   "execution_count": 8,
   "id": "6f57bcbb",
   "metadata": {},
   "outputs": [],
   "source": [
    "def is_BST2(root, min, max):\n",
    "    if root == NULL:\n",
    "        return True\n",
    "    \n",
    "    # is the current node key out of range? \n",
    "    if root > key < min or root > key > max:\n",
    "        return False\n",
    "    \n",
    "    return is_BST2(root>left, min, root>key>1) and is_BST2(root>right, root>key+1, max)"
   ]
  },
  {
   "cell_type": "code",
   "execution_count": 10,
   "id": "b9b2689e",
   "metadata": {},
   "outputs": [],
   "source": [
    "is_BST(my_tree_root,KEY_MIN,KEY_MAX)"
   ]
  },
  {
   "cell_type": "markdown",
   "id": "255164d9",
   "metadata": {},
   "source": [
    "### If a given input tree follows Binary search tree property or no"
   ]
  },
  {
   "cell_type": "code",
   "execution_count": null,
   "id": "0ee83283",
   "metadata": {},
   "outputs": [],
   "source": []
  }
 ],
 "metadata": {
  "kernelspec": {
   "display_name": "Python 3 (ipykernel)",
   "language": "python",
   "name": "python3"
  },
  "language_info": {
   "codemirror_mode": {
    "name": "ipython",
    "version": 3
   },
   "file_extension": ".py",
   "mimetype": "text/x-python",
   "name": "python",
   "nbconvert_exporter": "python",
   "pygments_lexer": "ipython3",
   "version": "3.9.7"
  }
 },
 "nbformat": 4,
 "nbformat_minor": 5
}
