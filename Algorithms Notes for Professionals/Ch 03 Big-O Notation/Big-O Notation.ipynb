{
 "cells": [
  {
   "cell_type": "markdown",
   "id": "5b1d228d",
   "metadata": {},
   "source": [
    "## A Simple Loop"
   ]
  },
  {
   "cell_type": "code",
   "execution_count": 18,
   "id": "b182f7ef",
   "metadata": {},
   "outputs": [],
   "source": [
    "arr = [1,26,4,8,2,9,2]\n",
    "n = len(arr)"
   ]
  },
  {
   "cell_type": "code",
   "execution_count": 21,
   "id": "75a5e862",
   "metadata": {},
   "outputs": [],
   "source": [
    "def find_max(arr, n):\n",
    "    max = arr[0]\n",
    "    for i in range(1, n):\n",
    "        if max < arr[i]:\n",
    "            max = arr[i]\n",
    "    return max"
   ]
  },
  {
   "cell_type": "code",
   "execution_count": 22,
   "id": "6c56c0ee",
   "metadata": {},
   "outputs": [
    {
     "data": {
      "text/plain": [
       "26"
      ]
     },
     "execution_count": 22,
     "metadata": {},
     "output_type": "execute_result"
    }
   ],
   "source": [
    "find_max(arr, size)"
   ]
  },
  {
   "cell_type": "markdown",
   "id": "76753747",
   "metadata": {},
   "source": [
    "## A Nested Loop"
   ]
  },
  {
   "cell_type": "code",
   "execution_count": 76,
   "id": "5f0deb05",
   "metadata": {},
   "outputs": [
    {
     "name": "stdout",
     "output_type": "stream",
     "text": [
      "List Before  [1, 2, 3, 1, 2, 4, 5, 4, 6, 2]\n"
     ]
    }
   ],
   "source": [
    "my_list = [1, 2, 3, 1, 2, 4, 5, 4 ,6, 2]\n",
    "print(\"List Before \", my_list)\n",
    "temp_list = []"
   ]
  },
  {
   "cell_type": "code",
   "execution_count": 77,
   "id": "a8a76c49",
   "metadata": {},
   "outputs": [],
   "source": [
    "for i in my_list:\n",
    "    if i not in temp_list:\n",
    "        temp_list.append(i)\n",
    "\n",
    "my_list = temp_list"
   ]
  },
  {
   "cell_type": "code",
   "execution_count": 78,
   "id": "f2342372",
   "metadata": {},
   "outputs": [
    {
     "name": "stdout",
     "output_type": "stream",
     "text": [
      "List After removing duplicates  [1, 2, 3, 4, 5, 6]\n"
     ]
    }
   ],
   "source": [
    "print(\"List After removing duplicates \", my_list)"
   ]
  },
  {
   "cell_type": "code",
   "execution_count": 79,
   "id": "0e2b337f",
   "metadata": {},
   "outputs": [],
   "source": [
    "a = [1,2,3,2,1,5,6,5,5,5]"
   ]
  },
  {
   "cell_type": "code",
   "execution_count": 80,
   "id": "fd9b26f5",
   "metadata": {},
   "outputs": [],
   "source": [
    "seen = set()\n",
    "uniq = []\n",
    "for x in a:\n",
    "    if x not in seen:\n",
    "        uniq.append(x)\n",
    "        seen.add(x)"
   ]
  },
  {
   "cell_type": "code",
   "execution_count": 81,
   "id": "0938f8ce",
   "metadata": {},
   "outputs": [
    {
     "data": {
      "text/plain": [
       "{1, 2, 3, 5, 6}"
      ]
     },
     "execution_count": 81,
     "metadata": {},
     "output_type": "execute_result"
    }
   ],
   "source": [
    "seen"
   ]
  },
  {
   "cell_type": "code",
   "execution_count": 82,
   "id": "62b0e056",
   "metadata": {},
   "outputs": [
    {
     "data": {
      "text/plain": [
       "[1, 2, 3, 5, 6]"
      ]
     },
     "execution_count": 82,
     "metadata": {},
     "output_type": "execute_result"
    }
   ],
   "source": [
    "uniq"
   ]
  },
  {
   "cell_type": "markdown",
   "id": "57318a7f",
   "metadata": {},
   "source": [
    "## O(log n) types of Algorithms"
   ]
  },
  {
   "cell_type": "code",
   "execution_count": 91,
   "id": "d5d34f15",
   "metadata": {},
   "outputs": [],
   "source": [
    "b = [5, -2, 1, 7, -1, 2, 4]"
   ]
  },
  {
   "cell_type": "code",
   "execution_count": 92,
   "id": "33678207",
   "metadata": {},
   "outputs": [],
   "source": [
    "x = 1"
   ]
  },
  {
   "cell_type": "code",
   "execution_count": 96,
   "id": "08815a27",
   "metadata": {},
   "outputs": [],
   "source": [
    "def bSearch(arr, x):\n",
    "    low = 0\n",
    "    high=len(arr)-1\n",
    "    \n",
    "    while low <= high:\n",
    "        mid = (low+high)//2\n",
    "        if arr[mid] == x:\n",
    "            return mid\n",
    "        \n",
    "        elif arr[mid] < x:\n",
    "            low=mid+1\n",
    "        else:\n",
    "            high=mid+1\n",
    "            \n",
    "    return -1"
   ]
  },
  {
   "cell_type": "code",
   "execution_count": 97,
   "id": "50ae9800",
   "metadata": {},
   "outputs": [
    {
     "data": {
      "text/plain": [
       "2"
      ]
     },
     "execution_count": 97,
     "metadata": {},
     "output_type": "execute_result"
    }
   ],
   "source": [
    "bSearch(b, x)"
   ]
  },
  {
   "cell_type": "markdown",
   "id": "7b1ec9d0",
   "metadata": {},
   "source": [
    "## An O(log n) example"
   ]
  },
  {
   "cell_type": "code",
   "execution_count": 98,
   "id": "98d65e49",
   "metadata": {},
   "outputs": [],
   "source": [
    "L =[5, -2, 1, 7, -1, 2, 4]\n",
    "n = 10"
   ]
  },
  {
   "cell_type": "code",
   "execution_count": 101,
   "id": "6b407b49",
   "metadata": {},
   "outputs": [],
   "source": [
    "def hYelo(L,n):\n",
    "    a = 0\n",
    "    b = n-1\n",
    "    while True:\n",
    "        h = (a+b)//2\n",
    "        if L[h] == 0:\n",
    "            return h\n",
    "        elif L[h] > 0:\n",
    "            b = h\n",
    "        elif L[h] < 0:\n",
    "            a = h"
   ]
  },
  {
   "cell_type": "code",
   "execution_count": null,
   "id": "ca66f5f7",
   "metadata": {},
   "outputs": [],
   "source": [
    "hYrl"
   ]
  }
 ],
 "metadata": {
  "kernelspec": {
   "display_name": "Python 3 (ipykernel)",
   "language": "python",
   "name": "python3"
  },
  "language_info": {
   "codemirror_mode": {
    "name": "ipython",
    "version": 3
   },
   "file_extension": ".py",
   "mimetype": "text/x-python",
   "name": "python",
   "nbconvert_exporter": "python",
   "pygments_lexer": "ipython3",
   "version": "3.9.7"
  }
 },
 "nbformat": 4,
 "nbformat_minor": 5
}
