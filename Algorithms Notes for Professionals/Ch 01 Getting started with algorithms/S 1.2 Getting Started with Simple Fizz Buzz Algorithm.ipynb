{
 "cells": [
  {
   "cell_type": "markdown",
   "id": "3d0e063d",
   "metadata": {},
   "source": [
    "### Fizz Buzz\n",
    "Anda mungkin pernah melihat Fizz Buzz ditulis sebagai Fizz Buzz, FizzBuzz, atau Fizz-Buzz; mereka semua mengacu pada hal yang sama. \"Hal\" itu adalah topik utama diskusi hari ini. Pertama, apa itu FizzBuzz?\n",
    "\n",
    "Bayangkan serangkaian angka dari 1 hingga 10.\n",
    "\n",
    "1 2 3 4 5 6 7 8 9 10\n",
    "\n",
    "Fizz dan Buzz mengacu pada angka apa pun yang merupakan kelipatan dari 3 dan 5 masing-masing. Dengan kata lain, jika suatu angka terlihat oleh 3, itu diganti dengan Fizz; jika angka terlihat oleh 5, itu diganti dengan buzz. Jika suatu angka secara bersamaan merupakan kelipatan 3 DAN 5, angka tersebut diganti dengan \"fizz buzz\"."
   ]
  },
  {
   "cell_type": "code",
   "execution_count": 1,
   "id": "bd410b13",
   "metadata": {},
   "outputs": [],
   "source": [
    "# Contoh\n",
    "angka = [1,2,3,4,5]\n",
    "# disini 3 adalah Fizz dan 5 itu adalah Buzz"
   ]
  },
  {
   "cell_type": "markdown",
   "id": "d2e6d5ef",
   "metadata": {},
   "source": [
    "untuk menemukan fizz and buzz semuanya kita menggunakan for loop:\n",
    "\n",
    "#### untuk fizz"
   ]
  },
  {
   "cell_type": "code",
   "execution_count": 3,
   "id": "cdad9243",
   "metadata": {},
   "outputs": [
    {
     "name": "stdout",
     "output_type": "stream",
     "text": [
      "1\n",
      "2\n",
      "3 adalah fizz\n",
      "4\n",
      "5\n"
     ]
    }
   ],
   "source": [
    "for num in angka:\n",
    "    if num % 3 == 0:\n",
    "        print(f\"{num} adalah fizz\")\n",
    "    else:\n",
    "        print(num)"
   ]
  },
  {
   "cell_type": "markdown",
   "id": "4df6ffa4",
   "metadata": {},
   "source": [
    "di atas itu adalah untuk fizz."
   ]
  },
  {
   "cell_type": "markdown",
   "id": "8c9bd23c",
   "metadata": {},
   "source": [
    "#### untuk buzz"
   ]
  },
  {
   "cell_type": "code",
   "execution_count": 6,
   "id": "90396d65",
   "metadata": {},
   "outputs": [
    {
     "name": "stdout",
     "output_type": "stream",
     "text": [
      "1\n",
      "2\n",
      "3 adalah Fizz\n",
      "4\n",
      "5 adalah Buzz\n"
     ]
    }
   ],
   "source": [
    "for num in angka:\n",
    "    if num % 3 == 0:\n",
    "        print(f\"{num} adalah Fizz\")\n",
    "    elif num % 5 == 0:\n",
    "        print(f\"{num} adalah Buzz\")\n",
    "    else:\n",
    "        print(num)"
   ]
  },
  {
   "cell_type": "markdown",
   "id": "68a4d579",
   "metadata": {},
   "source": [
    "bagaimana untuk FizzBuzz"
   ]
  },
  {
   "cell_type": "code",
   "execution_count": 9,
   "id": "3021454d",
   "metadata": {},
   "outputs": [
    {
     "name": "stdout",
     "output_type": "stream",
     "text": [
      "0 adalah FizzBuzz\n",
      "1\n",
      "2\n",
      "3 adalah Fizz\n",
      "4\n",
      "5 adalah Buzz\n",
      "6 adalah Fizz\n",
      "7\n",
      "8\n",
      "9 adalah Fizz\n",
      "10 adalah Buzz\n",
      "11\n",
      "12 adalah Fizz\n",
      "13\n",
      "14\n",
      "15 adalah FizzBuzz\n",
      "16\n",
      "17\n",
      "18 adalah Fizz\n",
      "19\n"
     ]
    }
   ],
   "source": [
    "for num in range(20):\n",
    "    if num % 3 == 0 and num % 5 == 0:\n",
    "        print(f\"{num} adalah FizzBuzz\")\n",
    "    elif num % 3 == 0:\n",
    "        print(f\"{num} adalah Fizz\")\n",
    "    elif num % 5 == 0:\n",
    "        print(f\"{num} adalah Buzz\")\n",
    "    else:\n",
    "        print(num)"
   ]
  },
  {
   "cell_type": "markdown",
   "id": "627d02b7",
   "metadata": {},
   "source": [
    "# Enjoy Coding"
   ]
  }
 ],
 "metadata": {
  "kernelspec": {
   "display_name": "Python 3 (ipykernel)",
   "language": "python",
   "name": "python3"
  },
  "language_info": {
   "codemirror_mode": {
    "name": "ipython",
    "version": 3
   },
   "file_extension": ".py",
   "mimetype": "text/x-python",
   "name": "python",
   "nbconvert_exporter": "python",
   "pygments_lexer": "ipython3",
   "version": "3.9.7"
  }
 },
 "nbformat": 4,
 "nbformat_minor": 5
}
