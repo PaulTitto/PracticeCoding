{
 "cells": [
  {
   "cell_type": "markdown",
   "id": "a4871df6",
   "metadata": {},
   "source": [
    "## Practice Python by Solving\n",
    "No 11 - 20"
   ]
  },
  {
   "cell_type": "markdown",
   "id": "d2d80abb",
   "metadata": {},
   "source": [
    "#### NO 11\n",
    "\n",
    "Create a function that takes a list of numbers and returns the smallest number in the list\n",
    "\n",
    "* Examples =>\n",
    "find_smallest_num([34,15,88,2]) =>2"
   ]
  },
  {
   "cell_type": "code",
   "execution_count": 2,
   "id": "1af98130",
   "metadata": {},
   "outputs": [],
   "source": [
    "# i am have 2 option for this challange\n",
    "def find_smallest_num(num_smallest):\n",
    "    return min(num_smallest)\n",
    "\n",
    "def find_smallest_num2(num_smallest2):\n",
    "    return list(sorted(num_smallest2))[0]\n",
    "\n"
   ]
  },
  {
   "cell_type": "code",
   "execution_count": 5,
   "id": "13e59f97",
   "metadata": {},
   "outputs": [
    {
     "name": "stdout",
     "output_type": "stream",
     "text": [
      "2\n",
      "-88\n"
     ]
    }
   ],
   "source": [
    "print(find_smallest_num([34,15,88,2]))\n",
    "print(find_smallest_num2([32,-15,-88,230]))"
   ]
  },
  {
   "cell_type": "markdown",
   "id": "f9554b2b",
   "metadata": {},
   "source": [
    "#### NO 12\n",
    "Create a function that takes a list and returns the diffrence between the biggest and smallest numbers.\n",
    "\n",
    "diffrence_max_min([10,4,1,4,-10,-50,32, 21]) => 82"
   ]
  },
  {
   "cell_type": "code",
   "execution_count": 6,
   "id": "3f4cd3d1",
   "metadata": {},
   "outputs": [
    {
     "data": {
      "text/plain": [
       "82"
      ]
     },
     "execution_count": 6,
     "metadata": {},
     "output_type": "execute_result"
    }
   ],
   "source": [
    "def diffrence_max_min(lst):\n",
    "    return max(lst) - min(lst)\n",
    "\n",
    "diffrence_max_min([10,4,1,4,-10,-50,32, 21])"
   ]
  },
  {
   "cell_type": "code",
   "execution_count": 8,
   "id": "9a39f576",
   "metadata": {},
   "outputs": [
    {
     "data": {
      "text/plain": [
       "82"
      ]
     },
     "execution_count": 8,
     "metadata": {},
     "output_type": "execute_result"
    }
   ],
   "source": [
    "def dmm(lst2):\n",
    "    return list(sorted(lst2))[-1] - list(sorted(lst2))[0]\n",
    "\n",
    "dmm([10,4,1,4,-10,-50,32, 21])"
   ]
  },
  {
   "cell_type": "markdown",
   "id": "8fe15409",
   "metadata": {},
   "source": [
    "#### NO 13\n",
    "Create a function that takes a string (will be a person's first and last name) and returns a string with the first and last name swapped.\n",
    "                                       \n",
    "name_shuffle(\"Donald Trump\") => \"Trump Donald\""
   ]
  },
  {
   "cell_type": "code",
   "execution_count": 12,
   "id": "83de53e4",
   "metadata": {},
   "outputs": [
    {
     "data": {
      "text/plain": [
       "'Titto Paul'"
      ]
     },
     "execution_count": 12,
     "metadata": {},
     "output_type": "execute_result"
    }
   ],
   "source": [
    "def name_shuffle(txt):\n",
    "    return \" \".join(reversed(txt.split(\" \")))\n",
    "\n",
    "name_shuffle(\"Paul Titto\")"
   ]
  },
  {
   "cell_type": "markdown",
   "id": "57ad736b",
   "metadata": {},
   "source": [
    "Why i'm use\n",
    "* join => The join() method takes all items in an iterable and joins them into one string.\n",
    "* reversed => The reversed() function returns an iterator that accesses the given sequence in the reverse order.\n",
    "* split => The split() method splits a string into a list. You can specify the separator, default separator is any whitespace."
   ]
  },
  {
   "cell_type": "markdown",
   "id": "f534c1e5",
   "metadata": {},
   "source": [
    "#### NO 14\n",
    "Create a function that replaces all the vowels in a string with a specified character.\n",
    "\n",
    "replace_vowels(\"the aardvark\", \"#\") => \"th# ##rd#rk\""
   ]
  },
  {
   "cell_type": "code",
   "execution_count": 15,
   "id": "13aad380",
   "metadata": {},
   "outputs": [
    {
     "data": {
      "text/plain": [
       "'H&ll& Th&s &s T&tt&'"
      ]
     },
     "execution_count": 15,
     "metadata": {},
     "output_type": "execute_result"
    }
   ],
   "source": [
    "import re\n",
    "def replace_vowels(word, rep):\n",
    "    return re.sub(r'[aiueoAIUOE]', rep, word, flags=re.IGNORECASE)\n",
    "\n",
    "replace_vowels(\"Hallo This is Titto\", \"&\")"
   ]
  },
  {
   "cell_type": "markdown",
   "id": "ce7946c0",
   "metadata": {},
   "source": [
    "why use\n",
    "* > re.sub => Return the string obtained by replacing the leftmost non-overlapping occurrences of pattern in string by the replacement repl. If the pattern isn’t found, string is returned unchanged. repl can be a string or a function; if it is a string, any backslash escapes in it are processed. That is, \\n is converted to a single newline character, \\r is converted to a carriage return, and so forth. Unknown escapes of ASCII letters are reserved for future use and treated as errors. Other unknown escapes such as \\& are left alone. Backreferences, such as \\6, are replaced with the substring matched by group 6 in the pattern."
   ]
  },
  {
   "cell_type": "markdown",
   "id": "f739dd08",
   "metadata": {},
   "source": [
    "#### NO 15\n",
    "Create a function that takes three arguments `a, b, c` and returns the sum of the numbers that are evenly divended by `c` from range `a,b` inclusive.\n",
    "\n",
    "Examples =>\n",
    "\n",
    "evnly_divisible(1, 10, 20) => 0"
   ]
  },
  {
   "cell_type": "code",
   "execution_count": 67,
   "id": "e6f2bd0a",
   "metadata": {},
   "outputs": [
    {
     "data": {
      "text/plain": [
       "0"
      ]
     },
     "execution_count": 67,
     "metadata": {},
     "output_type": "execute_result"
    }
   ],
   "source": [
    "def evenly_divisible(x,y,z):\n",
    "    return(len([i for i in range(x, y+1) if i%z==0]))\n",
    "\n",
    "evenly_divisible(1, 10, 20)"
   ]
  },
  {
   "cell_type": "code",
   "execution_count": 69,
   "id": "24b71638",
   "metadata": {},
   "outputs": [
    {
     "data": {
      "text/plain": [
       "0"
      ]
     },
     "execution_count": 69,
     "metadata": {},
     "output_type": "execute_result"
    }
   ],
   "source": [
    "def divisible_in_range(x, y, z):\n",
    "    if x > y:\n",
    "        x, y = y, x\n",
    "    count = 0\n",
    "    for i in range(x, y + 1):\n",
    "        if i % z == 0:\n",
    "            print(i)\n",
    "            count +=1\n",
    "    return count\n",
    "\n",
    "divisible_in_range(1, 10, 20)"
   ]
  },
  {
   "cell_type": "markdown",
   "id": "95615452",
   "metadata": {},
   "source": [
    "#### NO 16\n",
    "\n",
    "Create a function that takes an integer and returns the factorial of that integer. That is, the integer multiplied by all positive lower integers.\n",
    "\n",
    "factorial(3) => 6"
   ]
  },
  {
   "cell_type": "code",
   "execution_count": 75,
   "id": "61aa124c",
   "metadata": {
    "scrolled": true
   },
   "outputs": [
    {
     "data": {
      "text/plain": [
       "6"
      ]
     },
     "execution_count": 75,
     "metadata": {},
     "output_type": "execute_result"
    }
   ],
   "source": [
    "def fact(n):  \n",
    "    return 1 if (n==1 or n==0) else n * fact(n - 1);  \n",
    "fact(3)"
   ]
  },
  {
   "cell_type": "markdown",
   "id": "e0243d34",
   "metadata": {},
   "source": [
    "#### NO 17\n",
    "\n",
    "Create a function that takes two numbers and a mathematical operator  `+ - / *`  and will perform a calculation with the given numbers.\n",
    "\n",
    "calculator(2 ,\"+\",2)=> 4"
   ]
  },
  {
   "cell_type": "code",
   "execution_count": 80,
   "id": "649e4591",
   "metadata": {},
   "outputs": [],
   "source": [
    "def calculator(num1, operator, num2):\n",
    "    try:\n",
    "        return eval(str(num1)+operator+str(num2))\n",
    "    except zeroDivisionError:\n",
    "        return \"Can't Divide by 0!\""
   ]
  },
  {
   "cell_type": "code",
   "execution_count": 81,
   "id": "b975c893",
   "metadata": {},
   "outputs": [
    {
     "data": {
      "text/plain": [
       "4"
      ]
     },
     "execution_count": 81,
     "metadata": {},
     "output_type": "execute_result"
    }
   ],
   "source": [
    "calculator(2, '+', 2)"
   ]
  },
  {
   "cell_type": "markdown",
   "id": "c29aa0e3",
   "metadata": {},
   "source": [
    "#### NO 18\n",
    "Given a list of numbers, create a function which returns the list but with each element's index in the list added to itself . This means you add 0 to the number at index 0, add 1 to the number at index 1, etc...\n",
    "\n",
    "add_indexes([0,0,0,0,0])= [0,1,2,3,4]"
   ]
  },
  {
   "cell_type": "code",
   "execution_count": 83,
   "id": "95ca7cf8",
   "metadata": {},
   "outputs": [
    {
     "data": {
      "text/plain": [
       "[0, 1, 2, 3, 4]"
      ]
     },
     "execution_count": 83,
     "metadata": {},
     "output_type": "execute_result"
    }
   ],
   "source": [
    "def add_indexes(lst):\n",
    "    return [i+j for i, j in enumerate(lst)]\n",
    "\n",
    "add_indexes([0,0,0,0,0])"
   ]
  },
  {
   "cell_type": "markdown",
   "id": "0bce4f45",
   "metadata": {},
   "source": [
    "#### NO 19\n",
    "\n",
    "You're in the midst of creating a typing game.\n",
    "Create a function that takes in two lists: the list of user-typed words, and the list of correcly typed words and outputs a list contining 1 s (correctly-typed words) and -1s (incorrectly typed words\n",
    "\n",
    "* Example => \n",
    "User-typed : [\"Cat\", \"Blue\", \"skt\", \"umbrells\", \"paddy\"]\n",
    "Correct : [\"Cat\", \"Blue\", \"sky\", \"umbrella\", \"paddy\"]\n",
    "outputs: [1, 1, -1, -1, 1]"
   ]
  },
  {
   "cell_type": "code",
   "execution_count": 1,
   "id": "adfbd8ab",
   "metadata": {},
   "outputs": [
    {
     "data": {
      "text/plain": [
       "[1, 1, -1]"
      ]
     },
     "execution_count": 1,
     "metadata": {},
     "output_type": "execute_result"
    }
   ],
   "source": [
    "def correct_stream(user, correct):\n",
    "    return [1 if user[i] == correct[i] else -1 for i in range(len(user))]\n",
    "\n",
    "correct_stream(\n",
    "    [\"it\", \"is\", \"find\"],\n",
    "    [\"it\", \"is\", \"fine\"]\n",
    ")"
   ]
  },
  {
   "cell_type": "markdown",
   "id": "3f4b6bff",
   "metadata": {},
   "source": [
    "#### NO 20\n",
    "Create a function that returns the mean of all ddigits.\n",
    "\n",
    "mean(42) -> 3"
   ]
  },
  {
   "cell_type": "code",
   "execution_count": 2,
   "id": "6d89b5f0",
   "metadata": {},
   "outputs": [
    {
     "data": {
      "text/plain": [
       "5.0"
      ]
     },
     "execution_count": 2,
     "metadata": {},
     "output_type": "execute_result"
    }
   ],
   "source": [
    "def mean(num):\n",
    "    x = [int(x) for x in str(num)]\n",
    "    return sum(x)/len(x)\n",
    "\n",
    "mean(46)"
   ]
  }
 ],
 "metadata": {
  "kernelspec": {
   "display_name": "Python 3 (ipykernel)",
   "language": "python",
   "name": "python3"
  },
  "language_info": {
   "codemirror_mode": {
    "name": "ipython",
    "version": 3
   },
   "file_extension": ".py",
   "mimetype": "text/x-python",
   "name": "python",
   "nbconvert_exporter": "python",
   "pygments_lexer": "ipython3",
   "version": "3.9.7"
  }
 },
 "nbformat": 4,
 "nbformat_minor": 5
}
