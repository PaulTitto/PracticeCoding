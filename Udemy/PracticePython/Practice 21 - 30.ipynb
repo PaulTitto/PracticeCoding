{
 "cells": [
  {
   "cell_type": "markdown",
   "id": "fc06b5da",
   "metadata": {},
   "source": [
    "#### NO 21\n",
    "\n",
    "Given a list of boxes, create a function that returns the total volume of all those boxes combined together. A box is represented by a list with three elements: length, width and height.\n",
    "\n",
    "For instance, total_volume([2, 3, 2], [6,6,7], [1,2,1]) should return 266  since (2 x 3 x 2) + (6 x 6 x 7) + (1 x 2 x 1) = 12 + 252 + 2 = 266.\n",
    "\n",
    "* Examples =>\n",
    "total_volume([4,2,4], [3,3,3], [1,1,2], [2,1,1]) => 63"
   ]
  },
  {
   "cell_type": "code",
   "execution_count": 7,
   "id": "8257d9c3",
   "metadata": {},
   "outputs": [],
   "source": [
    "def total_volume(*boxes):\n",
    "\t    return sum(y*x*z for y,x,z in boxes)"
   ]
  },
  {
   "cell_type": "code",
   "execution_count": 8,
   "id": "9faaf943",
   "metadata": {},
   "outputs": [
    {
     "data": {
      "text/plain": [
       "63"
      ]
     },
     "execution_count": 8,
     "metadata": {},
     "output_type": "execute_result"
    }
   ],
   "source": [
    " total_volume([4,2,4], [3,3,3], [1,1,2], [2,1,1])"
   ]
  },
  {
   "cell_type": "markdown",
   "id": "1ba696df",
   "metadata": {},
   "source": [
    "#### NO 22\n",
    "Create a function that takes a dictionary of student names and returns a list of student names in alphabetcal order\n",
    "\n",
    "* Example =>\n",
    "\n",
    "get_student_names({\n",
    "    \"Student 1\": \"Steven\",\n",
    "    \"Student 2\": \"Becky\",\n",
    "    \"Student 3\": \"Johnn\"\n",
    "})"
   ]
  },
  {
   "cell_type": "code",
   "execution_count": 9,
   "id": "1c23df9b",
   "metadata": {},
   "outputs": [],
   "source": [
    "def get_student_names(name):\n",
    "    return sorted(name.values())"
   ]
  },
  {
   "cell_type": "code",
   "execution_count": 10,
   "id": "97eb1814",
   "metadata": {},
   "outputs": [
    {
     "data": {
      "text/plain": [
       "['Becky', 'Johnn', 'Steven']"
      ]
     },
     "execution_count": 10,
     "metadata": {},
     "output_type": "execute_result"
    }
   ],
   "source": [
    "get_student_names({ \"Student 1\": \"Steven\", \"Student 2\": \"Becky\", \"Student 3\": \"Johnn\" })"
   ]
  },
  {
   "cell_type": "markdown",
   "id": "d2dd077b",
   "metadata": {},
   "source": [
    "#### NO 23\n",
    "Write a function that takes a list of elements and returns only the integers.\n",
    "\n",
    "* Examples=>\n",
    "return_only_integer([9,2,\"space\",\"car\",\"lion\",16]) => [9,2,16]"
   ]
  },
  {
   "cell_type": "code",
   "execution_count": 12,
   "id": "287e6e17",
   "metadata": {},
   "outputs": [],
   "source": [
    "def return_only_integer(lst):\n",
    "    return [i for i in lst if type(i) == int]"
   ]
  },
  {
   "cell_type": "code",
   "execution_count": 14,
   "id": "f1dfce89",
   "metadata": {},
   "outputs": [
    {
     "data": {
      "text/plain": [
       "[9, 2, 16]"
      ]
     },
     "execution_count": 14,
     "metadata": {},
     "output_type": "execute_result"
    }
   ],
   "source": [
    "return_only_integer([9,2,\"space\",\"car\",\"lion\",16])"
   ]
  },
  {
   "cell_type": "markdown",
   "id": "8a620a2f",
   "metadata": {},
   "source": [
    "#### NO 24\n",
    "Write a function that takes a list and a number as arguments. Add the number to the end of the list, then remove the first element of the list. The function should then return the updated list.\n",
    "\n",
    "* Examples = >\n",
    "next_in_line([5, 6, 7,8,9],[1]) => [6,7,8,9,1]"
   ]
  },
  {
   "cell_type": "code",
   "execution_count": 15,
   "id": "3f5ccc7d",
   "metadata": {},
   "outputs": [],
   "source": [
    "def next_in_line(lst, num):\n",
    "    return lst[1:] + [num] if lst else \"no list has been selected\""
   ]
  },
  {
   "cell_type": "code",
   "execution_count": 19,
   "id": "f6b4ec88",
   "metadata": {},
   "outputs": [
    {
     "data": {
      "text/plain": [
       "[6, 7, 8, 9, 1]"
      ]
     },
     "execution_count": 19,
     "metadata": {},
     "output_type": "execute_result"
    }
   ],
   "source": [
    "next_in_line([5, 6, 7,8,9],1)"
   ]
  },
  {
   "cell_type": "markdown",
   "id": "c2f5fb61",
   "metadata": {},
   "source": [
    "#### NO 25\n",
    "Create a function that takes a list of numbers between 1 and 10 (excluding one number) and returns the missing number.\n",
    "\n",
    "* Examples =>\n",
    "missing_num([1,2,3,4,5,6,7,8,9,10]) => 5"
   ]
  },
  {
   "cell_type": "code",
   "execution_count": 23,
   "id": "c794f32d",
   "metadata": {},
   "outputs": [
    {
     "data": {
      "text/plain": [
       "5"
      ]
     },
     "execution_count": 23,
     "metadata": {},
     "output_type": "execute_result"
    }
   ],
   "source": [
    "def missing_num(lst):\n",
    "    return 55- sum(lst)\n",
    "\n",
    "missing_num([1,2,3,4,6,7,8,9,10])"
   ]
  },
  {
   "cell_type": "markdown",
   "id": "5e185908",
   "metadata": {},
   "source": [
    "#### NO 26 \n",
    "Create a function that takes a list containing  nesed lists  as an argument. Each sublist has 2 elements. The first element is the numerator and the second element is the denominator. Return the sum of the fractions rounded to the nearest whole number.\n",
    "\n",
    "sum_functions([[18, 13], [4,5]]) =>"
   ]
  },
  {
   "cell_type": "code",
   "execution_count": 30,
   "id": "e8744a6d",
   "metadata": {},
   "outputs": [],
   "source": [
    "def sum_functions(lst):\n",
    "    return round(sum(n/d for n, d in lst))"
   ]
  },
  {
   "cell_type": "code",
   "execution_count": 31,
   "id": "793e0fb4",
   "metadata": {},
   "outputs": [
    {
     "data": {
      "text/plain": [
       "2"
      ]
     },
     "execution_count": 31,
     "metadata": {},
     "output_type": "execute_result"
    }
   ],
   "source": [
    "sum_functions([[18, 13], [4,5]])"
   ]
  },
  {
   "cell_type": "code",
   "execution_count": 29,
   "id": "9e177490",
   "metadata": {},
   "outputs": [
    {
     "name": "stdout",
     "output_type": "stream",
     "text": [
      "18\n",
      "13\n",
      "4\n",
      "5\n"
     ]
    }
   ],
   "source": []
  },
  {
   "cell_type": "code",
   "execution_count": null,
   "id": "4a057441",
   "metadata": {},
   "outputs": [],
   "source": []
  }
 ],
 "metadata": {
  "kernelspec": {
   "display_name": "Python 3 (ipykernel)",
   "language": "python",
   "name": "python3"
  },
  "language_info": {
   "codemirror_mode": {
    "name": "ipython",
    "version": 3
   },
   "file_extension": ".py",
   "mimetype": "text/x-python",
   "name": "python",
   "nbconvert_exporter": "python",
   "pygments_lexer": "ipython3",
   "version": "3.9.7"
  }
 },
 "nbformat": 4,
 "nbformat_minor": 5
}
