{
 "cells": [
  {
   "cell_type": "markdown",
   "id": "268f231f",
   "metadata": {},
   "source": [
    "## Practice Python by Solving\n",
    "No 1 - 10"
   ]
  },
  {
   "cell_type": "markdown",
   "id": "2f7fb1fb",
   "metadata": {},
   "source": [
    "#### No 1\n",
    "Create a function that takes two numbers are arguments and `return` their sum.\n",
    "\n",
    "Examples = >\n",
    "* addition(3,2) -> 5\n",
    "* addition(-3,-6) -> -9\n",
    "* addition(7,3) -> 10"
   ]
  },
  {
   "cell_type": "code",
   "execution_count": 1,
   "id": "f8a3d469",
   "metadata": {},
   "outputs": [
    {
     "data": {
      "text/plain": [
       "5"
      ]
     },
     "execution_count": 1,
     "metadata": {},
     "output_type": "execute_result"
    }
   ],
   "source": [
    "def addition(a, b):\n",
    "    return a + b\n",
    "\n",
    "addition(3, 2)"
   ]
  },
  {
   "cell_type": "markdown",
   "id": "4325398a",
   "metadata": {},
   "source": [
    "#### No 2\n",
    "Create a function that takes a string and Returns it as an integer\n",
    "Examples = >\n",
    "* string_int(\"6\") = > 6\n",
    "* string_int(\"100\") = > 100"
   ]
  },
  {
   "cell_type": "code",
   "execution_count": 2,
   "id": "242000f5",
   "metadata": {},
   "outputs": [
    {
     "data": {
      "text/plain": [
       "6"
      ]
     },
     "execution_count": 2,
     "metadata": {},
     "output_type": "execute_result"
    }
   ],
   "source": [
    "def string_int(txt):\n",
    "    return int(txt)\n",
    "\n",
    "string_int(\"6\")"
   ]
  },
  {
   "cell_type": "markdown",
   "id": "731e4a8d",
   "metadata": {},
   "source": [
    "#### No 3\n",
    "Create a function that takes a boolean variable `flag` and returns it as a strig\n",
    "\n",
    "Examples = >\n",
    "* bool_to_string(True) = \"True\""
   ]
  },
  {
   "cell_type": "code",
   "execution_count": 3,
   "id": "e26f7cca",
   "metadata": {},
   "outputs": [
    {
     "data": {
      "text/plain": [
       "'True'"
      ]
     },
     "execution_count": 3,
     "metadata": {},
     "output_type": "execute_result"
    }
   ],
   "source": [
    "def bool_to_string(flag):\n",
    "    return str(flag)\n",
    "\n",
    "bool_to_string(True)"
   ]
  },
  {
   "cell_type": "markdown",
   "id": "7cb9a4bc",
   "metadata": {},
   "source": [
    "#### No 4\n",
    "Create a function that takes a list containing only numbers and return the first element\n",
    "\n",
    "Examples =>\n",
    "* get_first_value([1, 2, 3]) => 1"
   ]
  },
  {
   "cell_type": "code",
   "execution_count": 4,
   "id": "c5c96eb5",
   "metadata": {},
   "outputs": [
    {
     "data": {
      "text/plain": [
       "1"
      ]
     },
     "execution_count": 4,
     "metadata": {},
     "output_type": "execute_result"
    }
   ],
   "source": [
    "def get_first_value(number_list):\n",
    "    return number_list[0]\n",
    "\n",
    "get_first_value([1,2,3])"
   ]
  },
  {
   "cell_type": "markdown",
   "id": "ef9daf43",
   "metadata": {},
   "source": [
    "#### No 5\n",
    "Create a function that takes the number of wins, draw and losses and calculates the number of points a football team has obtained so far.\n",
    "\n",
    "* wins get 3 points\n",
    "* draws get 1 pints\n",
    "* losses get 0 points\n",
    "\n",
    "Examples =>\n",
    "* football_points(3, 4, 2) => 13"
   ]
  },
  {
   "cell_type": "code",
   "execution_count": 6,
   "id": "e94660c9",
   "metadata": {},
   "outputs": [
    {
     "data": {
      "text/plain": [
       "13"
      ]
     },
     "execution_count": 6,
     "metadata": {},
     "output_type": "execute_result"
    }
   ],
   "source": [
    "def football_point(wins, draws, losses):\n",
    "    return 3*wins + draws\n",
    "\n",
    "football_point(3,4,2)"
   ]
  },
  {
   "cell_type": "markdown",
   "id": "1ec28fc7",
   "metadata": {},
   "source": [
    "#### No 6\n",
    "\n",
    "Write a function that returns the string `\"something\"` joined wtih a space `\" \"` and the given argument `a`.\n",
    "\n",
    "Examples =>\n",
    "* given_me_something(\"is better than nothing\") => \"something is better than nothing\""
   ]
  },
  {
   "cell_type": "code",
   "execution_count": 7,
   "id": "09db9dc5",
   "metadata": {},
   "outputs": [
    {
     "data": {
      "text/plain": [
       "'something Bob Jane'"
      ]
     },
     "execution_count": 7,
     "metadata": {},
     "output_type": "execute_result"
    }
   ],
   "source": [
    "def given_me_something(a):\n",
    "    return \"something \" + a\n",
    "\n",
    "given_me_something(\"Bob Jane\")"
   ]
  },
  {
   "cell_type": "markdown",
   "id": "51500b78",
   "metadata": {},
   "source": [
    "#### No 7\n",
    "Create a function that returns `True` when `num1` is equal to `num2` otherwise return false.\n",
    "\n",
    "Examples=>\n",
    "* is_same_num(4, 8) => False\n",
    "* is_same_num(2, 2) => True"
   ]
  },
  {
   "cell_type": "code",
   "execution_count": 9,
   "id": "2959f78e",
   "metadata": {},
   "outputs": [
    {
     "name": "stdout",
     "output_type": "stream",
     "text": [
      "False\n",
      "True\n"
     ]
    }
   ],
   "source": [
    "def is_same_num(num1, num2):\n",
    "    return num1 == num2\n",
    "\n",
    "print(is_same_num(4, 8))\n",
    "print(is_same_num(8, 8))"
   ]
  },
  {
   "cell_type": "markdown",
   "id": "0bf6d5cc",
   "metadata": {},
   "source": [
    "#### No 8\n",
    "Create a function to concatenate two integer lists\n",
    "\n",
    "Examples => concat([1, 3, 5], [2, 6, 8]) => [1, 3, 5, 3, 6, 8]"
   ]
  },
  {
   "cell_type": "code",
   "execution_count": 11,
   "id": "b81c7cdf",
   "metadata": {},
   "outputs": [
    {
     "data": {
      "text/plain": [
       "[1, 3, 5, 2, 6, 8]"
      ]
     },
     "execution_count": 11,
     "metadata": {},
     "output_type": "execute_result"
    }
   ],
   "source": [
    "def concat(lst1, lst2):\n",
    "    return lst1+lst2\n",
    "\n",
    "concat([1,3,5], [2,6,8])"
   ]
  },
  {
   "cell_type": "markdown",
   "id": "52b56966",
   "metadata": {},
   "source": [
    "#### No 9 \n",
    "Create a finction thata takes a number as its on;y argument and return `True`  if it's less than or equal to zero, otherwise return `False`\n",
    "\n",
    "less_than_or_equal_to_zero(5) => False"
   ]
  },
  {
   "cell_type": "code",
   "execution_count": 17,
   "id": "49c6a7ab",
   "metadata": {},
   "outputs": [
    {
     "data": {
      "text/plain": [
       "True"
      ]
     },
     "execution_count": 17,
     "metadata": {},
     "output_type": "execute_result"
    }
   ],
   "source": [
    "def less_than_or_equal_to_zero(num):\n",
    "    return num <= 0\n",
    "\n",
    "less_than_or_equal_to_zero(-1)"
   ]
  },
  {
   "cell_type": "markdown",
   "id": "06fbc87d",
   "metadata": {},
   "source": [
    "#### No 10\n",
    "Create a function that takes a list of numbers. Return the largest number in the list.\n",
    "\n",
    "Examples =>\n",
    "* findLargestNum([4, 5, 1, 3]) => 5"
   ]
  },
  {
   "cell_type": "code",
   "execution_count": 21,
   "id": "3f062f65",
   "metadata": {},
   "outputs": [
    {
     "data": {
      "text/plain": [
       "5"
      ]
     },
     "execution_count": 21,
     "metadata": {},
     "output_type": "execute_result"
    }
   ],
   "source": [
    "def findLargestNum(nums):\n",
    "    return list(sorted(nums))[-1]\n",
    "\n",
    "findLargestNum([4,5,1,3])"
   ]
  }
 ],
 "metadata": {
  "kernelspec": {
   "display_name": "Python 3 (ipykernel)",
   "language": "python",
   "name": "python3"
  },
  "language_info": {
   "codemirror_mode": {
    "name": "ipython",
    "version": 3
   },
   "file_extension": ".py",
   "mimetype": "text/x-python",
   "name": "python",
   "nbconvert_exporter": "python",
   "pygments_lexer": "ipython3",
   "version": "3.9.7"
  }
 },
 "nbformat": 4,
 "nbformat_minor": 5
}
